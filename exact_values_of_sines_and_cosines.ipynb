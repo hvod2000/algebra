{
 "cells": [
  {
   "cell_type": "markdown",
   "metadata": {},
   "source": [
    "Used this thing: https://r-knott.surrey.ac.uk/Fibonacci/simpleTrig.html \n",
    "\n",
    "$$\n",
    "\\sin{3} =\n",
    "\\frac{1}{16}\\sqrt{30}+\\frac{1}{16}\\sqrt{10}+\\frac{-1}{16}\\sqrt{6}+\\frac{-1}{16}\\sqrt{2}+\\frac{-1}{8}\\sqrt{5+\\sqrt{5}}\\sqrt{3}+\\frac{1}{8}\\sqrt{5+\\sqrt{5}}\n",
    "$$\n",
    "\n",
    "$$\n",
    "\\cos{3} =\n",
    "\\frac{1}{16} \\, \\sqrt{30} - \\frac{1}{16} \\, \\sqrt{10} - \\frac{1}{16} \\, \\sqrt{6} + \\frac{1}{16} \\, \\sqrt{2} + \\frac{1}{8} \\, \\sqrt{3 \\, \\sqrt{5} + 15} + \\frac{1}{8} \\, \\sqrt{\\sqrt{5} + 5}\n",
    "$$"
   ]
  },
  {
   "cell_type": "code",
   "execution_count": null,
   "metadata": {},
   "outputs": [],
   "source": [
    "import math\n",
    "import functools\n",
    "from linear_combinations_of_quadratic_integers import LCoQI, Rational"
   ]
  },
  {
   "cell_type": "code",
   "execution_count": null,
   "metadata": {},
   "outputs": [],
   "source": [
    "cos3 = LCoQI({30:1, 10:-1, 6:-1, 2:1, frozenset({3, (\"+√\", 5)}):2, (\"+√\", 5):2}) / LCoQI({1:16})\n",
    "cos3"
   ]
  },
  {
   "cell_type": "code",
   "execution_count": null,
   "metadata": {},
   "outputs": [],
   "source": [
    "sin3 = LCoQI({6: Rational(1, 48)}) * LCoQI({5: 1, 1: -1}) * LCoQI(\n",
    "    {1: 3, 3: 1}\n",
    ") - LCoQI({3: Rational(1, 24)}) * LCoQI({1: 3, 3: -1}) * LCoQI({(\"+√\", 5): 1})"
   ]
  },
  {
   "cell_type": "code",
   "execution_count": null,
   "metadata": {},
   "outputs": [],
   "source": [
    "sin3"
   ]
  },
  {
   "cell_type": "code",
   "execution_count": null,
   "metadata": {},
   "outputs": [],
   "source": [
    "print(sin3**2 + cos3**2, \"=\", 1)\n",
    "print(float(sin3), \"=\", math.sin(3/180*math.pi))\n",
    "print(float(cos3), \"=\", math.cos(3/180*math.pi))"
   ]
  },
  {
   "cell_type": "code",
   "execution_count": null,
   "metadata": {},
   "outputs": [],
   "source": [
    "@functools.cache\n",
    "def mycos(graduces):\n",
    "    assert graduces % 3 == 0\n",
    "    if graduces % 360 == 0: return LCoQI({1:1})\n",
    "    return mycos(graduces-3)*cos3-mysin(graduces-3)*sin3\n",
    "@functools.cache\n",
    "def mysin(graduces):\n",
    "    assert graduces % 3 == 0\n",
    "    if graduces % 360 == 0: return LCoQI({})\n",
    "    return mysin(graduces-3)*cos3+mycos(graduces-3)*sin3"
   ]
  },
  {
   "cell_type": "code",
   "execution_count": null,
   "metadata": {},
   "outputs": [],
   "source": [
    "def shrink_str(obj, max_length=80):\n",
    "    s = str(obj)\n",
    "    return s[:max_length-3] + \"...\" if len(s) > max_length else s\n",
    "for φ in range(0, 91, 3):\n",
    "    y0 = mysin(φ)\n",
    "    y1 = float(y0)\n",
    "    y2 = math.sin(φ/180*math.pi)\n",
    "    print(f\"sin {φ:2}° = {y2:.2f} = {y1:.2f} =\", shrink_str(y0, 90))"
   ]
  },
  {
   "cell_type": "code",
   "execution_count": null,
   "metadata": {},
   "outputs": [],
   "source": [
    "cos22_5 = LCoQI({(\"+√\", 2):Rational(1,2)})\n",
    "cos22_5"
   ]
  },
  {
   "cell_type": "code",
   "execution_count": null,
   "metadata": {},
   "outputs": [],
   "source": [
    "sin22_5 = cos22_5 * LCoQI({2:1, 1:-1})\n",
    "sin22_5"
   ]
  },
  {
   "cell_type": "code",
   "execution_count": null,
   "metadata": {},
   "outputs": [],
   "source": [
    "sin22_5**2 + cos22_5**2"
   ]
  },
  {
   "cell_type": "code",
   "execution_count": null,
   "metadata": {},
   "outputs": [],
   "source": [
    "sin24 = mysin(24)\n",
    "cos24 = mycos(24)"
   ]
  },
  {
   "cell_type": "code",
   "execution_count": null,
   "metadata": {},
   "outputs": [],
   "source": [
    "# sin(a−b)=sin(a)cos(b)−cos(a)sin(b)\n",
    "sin1_5 = sin24*cos22_5 - cos24*sin22_5\n",
    "sin1_5"
   ]
  },
  {
   "cell_type": "code",
   "execution_count": null,
   "metadata": {
    "scrolled": true
   },
   "outputs": [],
   "source": [
    "# cos(a−b)=cos(a)cos(b)+sin(a)sin(b)\n",
    "cos1_5 = cos24*cos22_5 + sin24*sin22_5\n",
    "cos1_5"
   ]
  },
  {
   "cell_type": "code",
   "execution_count": null,
   "metadata": {},
   "outputs": [],
   "source": [
    "basis = {root for roots in list(sin1_5.coeffs) + list(cos1_5.coeffs) for root in roots}\n",
    "N = len(basis)\n",
    "basis"
   ]
  },
  {
   "cell_type": "code",
   "execution_count": null,
   "metadata": {},
   "outputs": [],
   "source": [
    "print(f\"multiplication of multivectors with basis of size {N} will take {4**N} operations\")"
   ]
  },
  {
   "cell_type": "code",
   "execution_count": null,
   "metadata": {},
   "outputs": [],
   "source": [
    "τ = tau = math.pi * 2\n",
    "\n",
    "@functools.cache\n",
    "def sincos_in_degrees(angle):\n",
    "    if angle == 0:\n",
    "        return LCoQI({}), LCoQI({1:1})\n",
    "    sin, cos = sincos_in_degrees(angle - 1)\n",
    "    return sin*cos1_5+cos*sin1_5, cos*cos1_5-sin*sin1_5\n",
    "\n",
    "sin = lambda angle: sincos_in_degrees(round(angle * 240 / tau) % 240)[0]\n",
    "cos = lambda angle: sincos_in_degrees(round(angle * 240 / tau) % 240)[1]"
   ]
  },
  {
   "cell_type": "markdown",
   "metadata": {},
   "source": [
    "# THE TABLE"
   ]
  },
  {
   "cell_type": "code",
   "execution_count": null,
   "metadata": {},
   "outputs": [],
   "source": [
    "for angle in range(240):\n",
    "    y = sin(angle / 240 * τ)\n",
    "    left = f\"sin {angle}*τ/240\"\n",
    "    print(f\"{left:>13} =\", shrink_str(str(y), 96))"
   ]
  },
  {
   "cell_type": "code",
   "execution_count": null,
   "metadata": {
    "scrolled": true
   },
   "outputs": [],
   "source": [
    "for angle in range(240):\n",
    "    y = sin(angle / 240 * τ)\n",
    "    left = \"\\sin{\\\\frac{\" + str(angle) + \"τ}{240}}\"\n",
    "    print(\"$$\", left, \"=\", y.to_tex(), \"$$\\n\")"
   ]
  }
 ],
 "metadata": {
  "kernelspec": {
   "display_name": "Python 3 (ipykernel)",
   "language": "python",
   "name": "python3"
  },
  "language_info": {
   "codemirror_mode": {
    "name": "ipython",
    "version": 3
   },
   "file_extension": ".py",
   "mimetype": "text/x-python",
   "name": "python",
   "nbconvert_exporter": "python",
   "pygments_lexer": "ipython3",
   "version": "3.10.5"
  }
 },
 "nbformat": 4,
 "nbformat_minor": 5
}
